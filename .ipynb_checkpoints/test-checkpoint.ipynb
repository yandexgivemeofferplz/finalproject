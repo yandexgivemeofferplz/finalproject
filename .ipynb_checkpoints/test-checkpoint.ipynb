{
 "cells": [
  {
   "cell_type": "code",
   "execution_count": 2,
   "metadata": {},
   "outputs": [],
   "source": [
    "import keras\n",
    "from keras.models import Sequential\n",
    "from keras.layers import Dense, Activation"
   ]
  },
  {
   "cell_type": "code",
   "execution_count": 8,
   "metadata": {},
   "outputs": [
    {
     "name": "stdout",
     "output_type": "stream",
     "text": [
      "Epoch 1/10\n",
      "1000/1000 [==============================] - 0s 463us/step - loss: 1.2373 - acc: 0.3150\n",
      "Epoch 2/10\n",
      "1000/1000 [==============================] - 0s 150us/step - loss: 1.0837 - acc: 0.4310\n",
      "Epoch 3/10\n",
      "1000/1000 [==============================] - 0s 158us/step - loss: 0.9928 - acc: 0.5000\n",
      "Epoch 4/10\n",
      "1000/1000 [==============================] - 0s 160us/step - loss: 0.8842 - acc: 0.6020\n",
      "Epoch 5/10\n",
      "1000/1000 [==============================] - 0s 143us/step - loss: 0.7934 - acc: 0.6640\n",
      "Epoch 6/10\n",
      "1000/1000 [==============================] - 0s 150us/step - loss: 0.6949 - acc: 0.7230\n",
      "Epoch 7/10\n",
      "1000/1000 [==============================] - 0s 135us/step - loss: 0.6030 - acc: 0.7980\n",
      "Epoch 8/10\n",
      "1000/1000 [==============================] - 0s 130us/step - loss: 0.5140 - acc: 0.8270\n",
      "Epoch 9/10\n",
      "1000/1000 [==============================] - 0s 127us/step - loss: 0.4805 - acc: 0.8500\n",
      "Epoch 10/10\n",
      "1000/1000 [==============================] - 0s 133us/step - loss: 0.3845 - acc: 0.8980\n"
     ]
    },
    {
     "data": {
      "text/plain": [
       "<keras.callbacks.History at 0x1b51fe48>"
      ]
     },
     "execution_count": 8,
     "metadata": {},
     "output_type": "execute_result"
    }
   ],
   "source": [
    "model = Sequential()\n",
    "model.add(Dense(100, activation='relu', input_dim=1000))\n",
    "model.add(Dense(3, activation='softmax'))\n",
    "model.compile(optimizer='rmsprop',\n",
    "              loss='categorical_crossentropy',\n",
    "              metrics=['accuracy'])\n",
    "\n",
    "# Generate dummy data\n",
    "import numpy as np\n",
    "data = np.random.random((1000, 1000))\n",
    "labels = np.random.randint(3, size=(1000, 1))\n",
    "\n",
    "# Convert labels to categorical one-hot encoding\n",
    "one_hot_labels = keras.utils.to_categorical(labels, num_classes=3)\n",
    "\n",
    "# Train the model, iterating on the data in batches of 32 samples\n",
    "model.fit(data, one_hot_labels, epochs=10, batch_size=32)"
   ]
  },
  {
   "cell_type": "code",
   "execution_count": 10,
   "metadata": {},
   "outputs": [
    {
     "data": {
      "text/plain": [
       "array([[ 1.,  0.,  0.],\n",
       "       [ 0.,  1.,  0.],\n",
       "       [ 0.,  1.,  0.],\n",
       "       ..., \n",
       "       [ 0.,  1.,  0.],\n",
       "       [ 0.,  1.,  0.],\n",
       "       [ 1.,  0.,  0.]])"
      ]
     },
     "execution_count": 10,
     "metadata": {},
     "output_type": "execute_result"
    }
   ],
   "source": [
    "one_hot_labels"
   ]
  },
  {
   "cell_type": "code",
   "execution_count": null,
   "metadata": {},
   "outputs": [],
   "source": []
  }
 ],
 "metadata": {
  "kernelspec": {
   "display_name": "Python 3",
   "language": "python",
   "name": "python3"
  },
  "language_info": {
   "codemirror_mode": {
    "name": "ipython",
    "version": 3
   },
   "file_extension": ".py",
   "mimetype": "text/x-python",
   "name": "python",
   "nbconvert_exporter": "python",
   "pygments_lexer": "ipython3",
   "version": "3.6.1"
  }
 },
 "nbformat": 4,
 "nbformat_minor": 2
}
